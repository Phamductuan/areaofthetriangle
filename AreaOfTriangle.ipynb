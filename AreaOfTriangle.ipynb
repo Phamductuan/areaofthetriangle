{
 "cells": [
  {
   "cell_type": "code",
   "execution_count": 7,
   "id": "6d63d9be",
   "metadata": {},
   "outputs": [
    {
     "name": "stdout",
     "output_type": "stream",
     "text": [
      "nhap a:69\n",
      "nhap b:69\n",
      "nhap c:98\n",
      "dien tich la: 2380.4117290922595\n"
     ]
    }
   ],
   "source": [
    "import math\n",
    "a= float(input(\"nhap a:\"))\n",
    "b= float(input(\"nhap b:\"))\n",
    "c= float(input(\"nhap c:\"))\n",
    "#chu vi\n",
    "s =(a+b+c)/2\n",
    "# dien tich\n",
    "area = math.sqrt(s*(s-a)*(s-b)*(s-c))\n",
    "print(\"dien tich la:\", area)"
   ]
  },
  {
   "cell_type": "code",
   "execution_count": null,
   "id": "65078b94",
   "metadata": {},
   "outputs": [],
   "source": []
  },
  {
   "cell_type": "code",
   "execution_count": null,
   "id": "eff7d4d9",
   "metadata": {},
   "outputs": [],
   "source": []
  }
 ],
 "metadata": {
  "kernelspec": {
   "display_name": "Python 3 (ipykernel)",
   "language": "python",
   "name": "python3"
  },
  "language_info": {
   "codemirror_mode": {
    "name": "ipython",
    "version": 3
   },
   "file_extension": ".py",
   "mimetype": "text/x-python",
   "name": "python",
   "nbconvert_exporter": "python",
   "pygments_lexer": "ipython3",
   "version": "3.9.6"
  }
 },
 "nbformat": 4,
 "nbformat_minor": 5
}
